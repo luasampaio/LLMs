{
  "nbformat": 4,
  "nbformat_minor": 0,
  "metadata": {
    "colab": {
      "provenance": [],
      "authorship_tag": "ABX9TyMHI8KikifvsXMv06gnl4Mt",
      "include_colab_link": true
    },
    "kernelspec": {
      "name": "python3",
      "display_name": "Python 3"
    },
    "language_info": {
      "name": "python"
    }
  },
  "cells": [
    {
      "cell_type": "markdown",
      "metadata": {
        "id": "view-in-github",
        "colab_type": "text"
      },
      "source": [
        "<a href=\"https://colab.research.google.com/github/luasampaio/LLMs/blob/main/02_langchain_Pierreguillou.ipynb\" target=\"_parent\"><img src=\"https://colab.research.google.com/assets/colab-badge.svg\" alt=\"Open In Colab\"/></a>"
      ]
    },
    {
      "cell_type": "code",
      "execution_count": 1,
      "metadata": {
        "id": "Ddg7rBjN3aHz"
      },
      "outputs": [],
      "source": [
        "!pip install langchain langchain-groq langchain_community langchain-huggingface --q\n",
        "!pip install faiss-cpu sentence-transformers PyMuPDF --q"
      ]
    },
    {
      "cell_type": "code",
      "source": [
        "!pip install transformers"
      ],
      "metadata": {
        "colab": {
          "base_uri": "https://localhost:8080/"
        },
        "id": "K34bSg153xtE",
        "outputId": "2cd59966-5940-48e4-9022-af8e1466f077"
      },
      "execution_count": 2,
      "outputs": [
        {
          "output_type": "stream",
          "name": "stdout",
          "text": [
            "Requirement already satisfied: transformers in /usr/local/lib/python3.11/dist-packages (4.53.0)\n",
            "Requirement already satisfied: filelock in /usr/local/lib/python3.11/dist-packages (from transformers) (3.18.0)\n",
            "Requirement already satisfied: huggingface-hub<1.0,>=0.30.0 in /usr/local/lib/python3.11/dist-packages (from transformers) (0.33.2)\n",
            "Requirement already satisfied: numpy>=1.17 in /usr/local/lib/python3.11/dist-packages (from transformers) (2.0.2)\n",
            "Requirement already satisfied: packaging>=20.0 in /usr/local/lib/python3.11/dist-packages (from transformers) (24.2)\n",
            "Requirement already satisfied: pyyaml>=5.1 in /usr/local/lib/python3.11/dist-packages (from transformers) (6.0.2)\n",
            "Requirement already satisfied: regex!=2019.12.17 in /usr/local/lib/python3.11/dist-packages (from transformers) (2024.11.6)\n",
            "Requirement already satisfied: requests in /usr/local/lib/python3.11/dist-packages (from transformers) (2.32.3)\n",
            "Requirement already satisfied: tokenizers<0.22,>=0.21 in /usr/local/lib/python3.11/dist-packages (from transformers) (0.21.2)\n",
            "Requirement already satisfied: safetensors>=0.4.3 in /usr/local/lib/python3.11/dist-packages (from transformers) (0.5.3)\n",
            "Requirement already satisfied: tqdm>=4.27 in /usr/local/lib/python3.11/dist-packages (from transformers) (4.67.1)\n",
            "Requirement already satisfied: fsspec>=2023.5.0 in /usr/local/lib/python3.11/dist-packages (from huggingface-hub<1.0,>=0.30.0->transformers) (2025.3.2)\n",
            "Requirement already satisfied: typing-extensions>=3.7.4.3 in /usr/local/lib/python3.11/dist-packages (from huggingface-hub<1.0,>=0.30.0->transformers) (4.14.0)\n",
            "Requirement already satisfied: hf-xet<2.0.0,>=1.1.2 in /usr/local/lib/python3.11/dist-packages (from huggingface-hub<1.0,>=0.30.0->transformers) (1.1.5)\n",
            "Requirement already satisfied: charset-normalizer<4,>=2 in /usr/local/lib/python3.11/dist-packages (from requests->transformers) (3.4.2)\n",
            "Requirement already satisfied: idna<4,>=2.5 in /usr/local/lib/python3.11/dist-packages (from requests->transformers) (3.10)\n",
            "Requirement already satisfied: urllib3<3,>=1.21.1 in /usr/local/lib/python3.11/dist-packages (from requests->transformers) (2.4.0)\n",
            "Requirement already satisfied: certifi>=2017.4.17 in /usr/local/lib/python3.11/dist-packages (from requests->transformers) (2025.6.15)\n"
          ]
        }
      ]
    },
    {
      "cell_type": "code",
      "source": [
        "import transformers\n",
        "from transformers import pipeline"
      ],
      "metadata": {
        "id": "CPb964UO97t3"
      },
      "execution_count": 3,
      "outputs": []
    },
    {
      "cell_type": "code",
      "source": [
        "gerador = pipeline(\"text-generation\", model=\"pierreguillou/gpt2-small-portuguese\")"
      ],
      "metadata": {
        "colab": {
          "base_uri": "https://localhost:8080/"
        },
        "id": "QrbLey5u-U1K",
        "outputId": "50473533-ac6a-49f6-ffea-3f266dc0e761"
      },
      "execution_count": 4,
      "outputs": [
        {
          "output_type": "stream",
          "name": "stderr",
          "text": [
            "/usr/local/lib/python3.11/dist-packages/huggingface_hub/utils/_auth.py:94: UserWarning: \n",
            "The secret `HF_TOKEN` does not exist in your Colab secrets.\n",
            "To authenticate with the Hugging Face Hub, create a token in your settings tab (https://huggingface.co/settings/tokens), set it as secret in your Google Colab and restart your session.\n",
            "You will be able to reuse this secret in all of your notebooks.\n",
            "Please note that authentication is recommended but still optional to access public models or datasets.\n",
            "  warnings.warn(\n",
            "Device set to use cpu\n"
          ]
        }
      ]
    },
    {
      "cell_type": "markdown",
      "source": [
        " ### Attention aprende a relação contextual entre palavras.\n",
        "- • Wor2vec não!\n",
        "- • Precisa ser treinado\n",
        "- • Existem modelos pré-treinados\n"
      ],
      "metadata": {
        "id": "BNR_vqBB_bP1"
      }
    },
    {
      "cell_type": "code",
      "source": [
        "texto = \"Método científico.\"\n",
        "resultado = gerador(texto, max_length=60, do_sample=True)\n",
        "print(resultado)"
      ],
      "metadata": {
        "colab": {
          "base_uri": "https://localhost:8080/"
        },
        "id": "R7r1iiju_wR5",
        "outputId": "ce995d4a-83fb-41a1-d354-8b4496e94f89"
      },
      "execution_count": 5,
      "outputs": [
        {
          "output_type": "stream",
          "name": "stderr",
          "text": [
            "Truncation was not explicitly activated but `max_length` is provided a specific value, please use `truncation=True` to explicitly truncate examples to max length. Defaulting to 'longest_first' truncation strategy. If you encode pairs of sequences (GLUE-style) with the tokenizer you can select this strategy more precisely by providing a specific strategy to `truncation`.\n",
            "Both `max_new_tokens` (=256) and `max_length`(=60) seem to have been set. `max_new_tokens` will take precedence. Please refer to the documentation for more information. (https://huggingface.co/docs/transformers/main/en/main_classes/text_generation)\n"
          ]
        },
        {
          "output_type": "stream",
          "name": "stdout",
          "text": [
            "[{'generated_text': 'Método científico.\\n\\nA partir da década de 1980 a pesquisa científica tornou-se mais ampla e mais voltada para a biologia da Terra. Com o tempo, em 1985, o Centro de Ciências Biológicas do Rio de Janeiro (CCBERJ) abriu uma biblioteca pública, e em 1986 transformou-se no Instituto de Biociências da UFRJ, sendo o primeiro a utilizar o termo Biociências da UFRJ.\\n\\nA partir de 1990, o Centro de Ciências Biológicas do Rio de Janeiro passou a ser vinculado ao Ministério da Agricultura, a fim de se tornar o Centro de Pesquisas da UFRJ com o objetivo de prover uma ferramenta para a pesquisa na área da saúde. No início dos anos 2000, o CCCBERJ passou a ser vinculado ao Ministério da Educação e Cultura.\\n\\nEm 2001, a divisão administrativa do Instituto de Biociências do Rio de Janeiro (ICBERJ) foi reformada, passando a ser a maior instituição de pesquisa do país, concentrando-se na área da saúde e da pesquisa básica. A partir de 2005, o Instituto passou a ser vinculado ao Ministério da Ciência e Tecnologia, com o objetivo de coordenar e coordenar a direção da pesquisa do país.\\n\\nEm 2010, o CCCBERJ passou a integrar a Secretaria de Desenvolvimento Científico e Tecnológico da UFRJ, tornando'}]\n"
          ]
        }
      ]
    },
    {
      "cell_type": "code",
      "source": [
        "\n",
        "texto = \"Método científico.\"\n",
        "resultado = gerador(texto, max_length=60, do_sample=True)[0]['generated_text']\n",
        "resultado\n"
      ],
      "metadata": {
        "colab": {
          "base_uri": "https://localhost:8080/",
          "height": 105
        },
        "id": "KJeDtu4mAW0Z",
        "outputId": "12185a56-e5c9-47a2-de2f-adc9a6bd81b2"
      },
      "execution_count": 6,
      "outputs": [
        {
          "output_type": "stream",
          "name": "stderr",
          "text": [
            "Both `max_new_tokens` (=256) and `max_length`(=60) seem to have been set. `max_new_tokens` will take precedence. Please refer to the documentation for more information. (https://huggingface.co/docs/transformers/main/en/main_classes/text_generation)\n"
          ]
        },
        {
          "output_type": "execute_result",
          "data": {
            "text/plain": [
              "'Método científico. Ela é o autor de uma série de livros sobre biologia celular, e um dos autores que trabalham na área de citologia.\\n\\n\"The World Is Not Enough and What It Is\" foi lançado em 15 de abril de 2003. O EP contém canções e remixes de \"The World Is Not Enough and What It Is\".\\n\\nEm 2002, ela lançou um CD e DVD intitulado \"The World Is Not Enough and What It Is\" com remixes de \"The World Is Not Enough and What It Is\".\\n\\nEm 2008, ela lançou seu primeiro álbum de estúdio, \"The World Is Not Enough\", com as participações de Chris Cornell, que também tocou no álbum em 2005.\\n\\nEla também escreveu para \"The Times\", \"The New York Times\", \"The Boston Globe\" e \"The Washington Post\".\\nO Campeonato Paraibano de Futebol de 1994 foi a 62ª edição do Campeonato Paraibano de Futebol de 1994, disputado no Centro de Integração Nacional (CENI), localizado na cidade de Campina Grande, no estado do Paraíba. O campeonato foi disputado entre 7 de outubro e 16 de dezembro de 1994. O campeão foi o Clube Atlético Paraibano de Campina Grande (CAGAC), com o clube sagrando-se campeão após derrotar o FC'"
            ],
            "application/vnd.google.colaboratory.intrinsic+json": {
              "type": "string"
            }
          },
          "metadata": {},
          "execution_count": 6
        }
      ]
    },
    {
      "cell_type": "code",
      "source": [
        "qea = pipeline(\"question-answering\", model=\"pierreguillou/bert-base-cased-squad-v1.1-portuguese\")"
      ],
      "metadata": {
        "colab": {
          "base_uri": "https://localhost:8080/"
        },
        "id": "lpQifoMfApFP",
        "outputId": "f9fd1e8b-58ae-47cc-ba03-d456da7fe6a3"
      },
      "execution_count": 7,
      "outputs": [
        {
          "output_type": "stream",
          "name": "stderr",
          "text": [
            "Device set to use cpu\n"
          ]
        }
      ]
    },
    {
      "cell_type": "markdown",
      "source": [
        "Resumo de textos\n"
      ],
      "metadata": {
        "id": "x7zXM1W0BaiX"
      }
    },
    {
      "cell_type": "code",
      "source": [
        "texto = \"Carl Sagan foi um cientista norte-americano. Sagan é autor de mais de 600 publicações científicas e também de mais de vinte livros de ciência e ficção científica.\"\n",
        "#pergunta = \"Quantos livros Carl Sagan tem publicado?\"\n",
        "#pergunta = \"Quem é Carl Sagan?\"\n",
        "pergunta = \"Quantas publicações cientificas Carl Sagan tem publicado?\"\n",
        "resposta = qea(question=pergunta, context=texto)\n",
        "print(\"Pergunta: \", pergunta)\n",
        "print(\"Resposta: \", resposta['answer'])\n",
        "print(\"Score: \", resposta['score'])"
      ],
      "metadata": {
        "colab": {
          "base_uri": "https://localhost:8080/"
        },
        "id": "gYL2pwbbBV2r",
        "outputId": "27d6159a-0781-43da-bf13-6bcbad72b98c"
      },
      "execution_count": 8,
      "outputs": [
        {
          "output_type": "stream",
          "name": "stdout",
          "text": [
            "Pergunta:  Quantas publicações cientificas Carl Sagan tem publicado?\n",
            "Resposta:  mais de 600\n",
            "Score:  0.7415887117385864\n"
          ]
        }
      ]
    }
  ]
}